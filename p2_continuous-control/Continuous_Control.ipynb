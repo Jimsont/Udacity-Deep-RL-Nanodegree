{
 "cells": [
  {
   "cell_type": "markdown",
   "metadata": {},
   "source": [
    "# Continuous Control\n",
    "\n",
    "---\n",
    "\n",
    "You are welcome to use this coding environment to train your agent for the project.  Follow the instructions below to get started!\n",
    "\n",
    "### 1. Start the Environment\n",
    "\n",
    "Run the next code cell to install a few packages.  This line will take a few minutes to run!"
   ]
  },
  {
   "cell_type": "code",
   "execution_count": 1,
   "metadata": {},
   "outputs": [
    {
     "name": "stdout",
     "output_type": "stream",
     "text": [
      "\u001b[31mtensorflow 1.7.1 has requirement numpy>=1.13.3, but you'll have numpy 1.12.1 which is incompatible.\u001b[0m\r\n",
      "\u001b[31mipython 6.5.0 has requirement prompt-toolkit<2.0.0,>=1.0.15, but you'll have prompt-toolkit 3.0.19 which is incompatible.\u001b[0m\r\n"
     ]
    }
   ],
   "source": [
    "!pip -q install ./python"
   ]
  },
  {
   "cell_type": "markdown",
   "metadata": {},
   "source": [
    "The environments corresponding to both versions of the environment are already saved in the Workspace and can be accessed at the file paths provided below.  \n",
    "\n",
    "Please select one of the two options below for loading the environment."
   ]
  },
  {
   "cell_type": "code",
   "execution_count": 2,
   "metadata": {},
   "outputs": [
    {
     "name": "stderr",
     "output_type": "stream",
     "text": [
      "INFO:unityagents:\n",
      "'Academy' started successfully!\n",
      "Unity Academy name: Academy\n",
      "        Number of Brains: 1\n",
      "        Number of External Brains : 1\n",
      "        Lesson number : 0\n",
      "        Reset Parameters :\n",
      "\t\tgoal_speed -> 1.0\n",
      "\t\tgoal_size -> 5.0\n",
      "Unity brain name: ReacherBrain\n",
      "        Number of Visual Observations (per agent): 0\n",
      "        Vector Observation space type: continuous\n",
      "        Vector Observation space size (per agent): 33\n",
      "        Number of stacked Vector Observation: 1\n",
      "        Vector Action space type: continuous\n",
      "        Vector Action space size (per agent): 4\n",
      "        Vector Action descriptions: , , , \n"
     ]
    }
   ],
   "source": [
    "from unityagents import UnityEnvironment\n",
    "import numpy as np\n",
    "\n",
    "# select this option to load version 1 (with a single agent) of the environment\n",
    "# env = UnityEnvironment(file_name='/data/Reacher_One_Linux_NoVis/Reacher_One_Linux_NoVis.x86_64')\n",
    "\n",
    "# select this option to load version 2 (with 20 agents) of the environment\n",
    "env = UnityEnvironment(file_name='/data/Reacher_Linux_NoVis/Reacher.x86_64')"
   ]
  },
  {
   "cell_type": "markdown",
   "metadata": {},
   "source": [
    "Environments contain **_brains_** which are responsible for deciding the actions of their associated agents. Here we check for the first brain available, and set it as the default brain we will be controlling from Python."
   ]
  },
  {
   "cell_type": "code",
   "execution_count": 3,
   "metadata": {},
   "outputs": [],
   "source": [
    "# get the default brain\n",
    "brain_name = env.brain_names[0]\n",
    "brain = env.brains[brain_name]"
   ]
  },
  {
   "cell_type": "markdown",
   "metadata": {},
   "source": [
    "### 2. Examine the State and Action Spaces\n",
    "\n",
    "Run the code cell below to print some information about the environment."
   ]
  },
  {
   "cell_type": "code",
   "execution_count": 4,
   "metadata": {},
   "outputs": [
    {
     "name": "stdout",
     "output_type": "stream",
     "text": [
      "Number of agents: 20\n",
      "Size of each action: 4\n",
      "There are 20 agents. Each observes a state with length: 33\n",
      "The state for the first agent looks like: [  0.00000000e+00  -4.00000000e+00   0.00000000e+00   1.00000000e+00\n",
      "  -0.00000000e+00  -0.00000000e+00  -4.37113883e-08   0.00000000e+00\n",
      "   0.00000000e+00   0.00000000e+00   0.00000000e+00   0.00000000e+00\n",
      "   0.00000000e+00   0.00000000e+00  -1.00000000e+01   0.00000000e+00\n",
      "   1.00000000e+00  -0.00000000e+00  -0.00000000e+00  -4.37113883e-08\n",
      "   0.00000000e+00   0.00000000e+00   0.00000000e+00   0.00000000e+00\n",
      "   0.00000000e+00   0.00000000e+00   5.75471878e+00  -1.00000000e+00\n",
      "   5.55726624e+00   0.00000000e+00   1.00000000e+00   0.00000000e+00\n",
      "  -1.68164849e-01]\n"
     ]
    }
   ],
   "source": [
    "# reset the environment\n",
    "env_info = env.reset(train_mode=True)[brain_name]\n",
    "\n",
    "# number of agents\n",
    "num_agents = len(env_info.agents)\n",
    "print('Number of agents:', num_agents)\n",
    "\n",
    "# size of each action\n",
    "action_size = brain.vector_action_space_size\n",
    "print('Size of each action:', action_size)\n",
    "\n",
    "# examine the state space \n",
    "states = env_info.vector_observations\n",
    "state_size = states.shape[1]\n",
    "print('There are {} agents. Each observes a state with length: {}'.format(states.shape[0], state_size))\n",
    "print('The state for the first agent looks like:', states[0])"
   ]
  },
  {
   "cell_type": "markdown",
   "metadata": {},
   "source": [
    "### 3. Take Random Actions in the Environment\n",
    "\n",
    "In the next code cell, you will learn how to use the Python API to control the agent and receive feedback from the environment.\n",
    "\n",
    "Note that **in this coding environment, you will not be able to watch the agents while they are training**, and you should set `train_mode=True` to restart the environment."
   ]
  },
  {
   "cell_type": "code",
   "execution_count": 5,
   "metadata": {},
   "outputs": [
    {
     "name": "stdout",
     "output_type": "stream",
     "text": [
      "Total score (averaged over agents) this episode: 0.06399999856948853\n",
      "1001\n"
     ]
    }
   ],
   "source": [
    "env_info = env.reset(train_mode=True)[brain_name]      # reset the environment    \n",
    "states = env_info.vector_observations                  # get the current state (for each agent)\n",
    "scores = np.zeros(num_agents)                          # initialize the score (for each agent)\n",
    "count = 0\n",
    "while True:\n",
    "    actions = np.random.randn(num_agents, action_size) # select an action (for each agent)\n",
    "    actions = np.clip(actions, -1, 1)                  # all actions between -1 and 1\n",
    "    env_info = env.step(actions)[brain_name]           # send all actions to tne environment\n",
    "    next_states = env_info.vector_observations         # get next state (for each agent)\n",
    "    rewards = env_info.rewards                         # get reward (for each agent)\n",
    "    dones = env_info.local_done                        # see if episode finished\n",
    "    scores += env_info.rewards                         # update the score (for each agent)\n",
    "    states = next_states                               # roll over states to next time step\n",
    "    count = count+1\n",
    "    if np.any(dones):                                  # exit loop if episode finished\n",
    "        break\n",
    "print('Total score (averaged over agents) this episode: {}'.format(np.mean(scores)))\n",
    "print(count)"
   ]
  },
  {
   "cell_type": "markdown",
   "metadata": {},
   "source": [
    "When finished, you can close the environment."
   ]
  },
  {
   "cell_type": "code",
   "execution_count": 6,
   "metadata": {},
   "outputs": [],
   "source": [
    "# env.close()"
   ]
  },
  {
   "cell_type": "markdown",
   "metadata": {},
   "source": [
    "### 4. It's Your Turn!\n",
    "\n",
    "Now it's your turn to train your own agent to solve the environment!  A few **important notes**:\n",
    "- When training the environment, set `train_mode=True`, so that the line for resetting the environment looks like the following:\n",
    "```python\n",
    "env_info = env.reset(train_mode=True)[brain_name]\n",
    "```\n",
    "- To structure your work, you're welcome to work directly in this Jupyter notebook, or you might like to start over with a new file!  You can see the list of files in the workspace by clicking on **_Jupyter_** in the top left corner of the notebook.\n",
    "- In this coding environment, you will not be able to watch the agents while they are training.  However, **_after training the agents_**, you can download the saved model weights to watch the agents on your own machine! "
   ]
  },
  {
   "cell_type": "markdown",
   "metadata": {},
   "source": [
    "### this section create model class"
   ]
  },
  {
   "cell_type": "code",
   "execution_count": 7,
   "metadata": {},
   "outputs": [],
   "source": [
    "# create neural network policy and optimizer\n",
    "import torch\n",
    "import torch.nn as nn\n",
    "import torch.nn.functional as F\n",
    "\n",
    "# set up a neural net that outputs actions, sigma for each action and state value\n",
    "device = torch.device(\"cuda:0\" if torch.cuda.is_available() else \"cpu\")\n",
    "\n",
    "class Policy(nn.Module):\n",
    "    \n",
    "    # initialize layers\n",
    "    def __init__(self, s_size=33, h_size=64, a_size=4):\n",
    "        super(Policy, self).__init__()\n",
    "\n",
    "        \n",
    "        self.fc1 = nn.Linear(s_size, h_size)\n",
    "#         self.bn1 = nn.BatchNorm1d(h_size)\n",
    "        self.fc2 = nn.Linear(h_size, h_size)\n",
    "#         self.bn2 = nn.BatchNorm1d(h_size)\n",
    "        \n",
    "        self.fc_critic1 = nn.Linear(s_size, h_size)\n",
    "        self.fc_critic2 = nn.Linear(h_size, h_size)\n",
    "        \n",
    "        self.fc_sig1 = nn.Linear(s_size, h_size)\n",
    "        self.fc_sig2 = nn.Linear(h_size, h_size)\n",
    "        \n",
    "        self.fc_action = nn.Linear(h_size, a_size)\n",
    "        self.fc_value = nn.Linear(h_size, 1)\n",
    "        self.fc_sigma = nn.Linear(h_size, a_size)\n",
    "        \n",
    "#         self.std = nn.Parameter(torch.ones(1, a_size))\n",
    "        # Standard deviations approximated seperately\n",
    "#         self.register_parameter('log_sigma', None)\n",
    "#         self.sigma = nn.Parameter(torch.ones(1, action_size)*0.5, requires_grad=True)\n",
    "                \n",
    "    # forward function for calculating mu, sigma and value\n",
    "    def forward(self, state):\n",
    "        \n",
    "        # mu output\n",
    "        x = (F.relu(self.fc1(state)))\n",
    "        x = (F.relu(self.fc2(x)))\n",
    "        # action outputs\n",
    "#         mu = (self.fc_action(x))\n",
    "        mu = F.tanh(self.fc_action(x))\n",
    "    \n",
    "        # sigma output\n",
    "        x2 = (F.relu(self.fc_sig1(state)))\n",
    "        x2 = (F.relu(self.fc_sig2(x2)))\n",
    "#         sigma = F.softplus(self.fc_sigma(x))\n",
    "        sigma = F.sigmoid(self.fc_sigma(x2))\n",
    "#         sigma = F.softplus(self.sigma).expand(mu.size())\n",
    "\n",
    "        # critic value output\n",
    "        x3 = F.relu(self.fc_critic1(state))\n",
    "        x3 = F.relu(self.fc_critic2(x3))\n",
    "        value = self.fc_value(x3)\n",
    "        \n",
    "        return mu, sigma, value\n",
    "    \n",
    "    \n",
    "# run your own policy!\n",
    "policy=Policy().to(device)\n",
    "\n",
    "# we use the adam optimizer with learning rate 2e-4\n",
    "# optim.SGD is also possible\n",
    "import torch.optim as optim\n",
    "optimizer = optim.Adam(policy.parameters(), lr=2e-4)"
   ]
  },
  {
   "cell_type": "markdown",
   "metadata": {},
   "source": [
    "### this section define the function which generate trajectories"
   ]
  },
  {
   "cell_type": "code",
   "execution_count": 8,
   "metadata": {},
   "outputs": [],
   "source": [
    "## build function that collect history data\n",
    "from torch.distributions import Normal\n",
    "\n",
    "def collect_trajectories(env, policy, tmax=200, num_agents=20, state_size=33, action_size=4, epi_search = 1.0):\n",
    "    action_list = []\n",
    "    state_list = []\n",
    "    reward_list = []\n",
    "    prob_list = []\n",
    "    value_list = []\n",
    "    \n",
    "    # reset environment\n",
    "    brain_name = env.brain_names[0]\n",
    "    env_info = env.reset(train_mode=True)[brain_name] \n",
    "    \n",
    "    # get starting state\n",
    "    state_current = env_info.vector_observations\n",
    "    \n",
    "    for t in range(tmax):\n",
    "        # append current state to state list\n",
    "        state_list.append(state_current)\n",
    "        \n",
    "        # map current state to mu_current, sigma_current\n",
    "        state_current = torch.from_numpy(state_current).to(torch.float).to(device)\n",
    "        mu_current, sigma_current, value_current = policy(state_current)\n",
    "        \n",
    "        # create distribution object\n",
    "#         sigma_rollout = torch.ones_like(sigma_current)*epi_search\n",
    "        dist = Normal(mu_current, sigma_current+1e-8)\n",
    "        \n",
    "        # get action\n",
    "        act_current = dist.sample()\n",
    "        act_current = torch.clamp(act_current, -1, 1)\n",
    "        \n",
    "        # calculate probabiliy of act_current\n",
    "        prob = torch.exp(dist.log_prob(act_current))\n",
    "        prob = prob.cpu().detach().numpy()\n",
    "        \n",
    "        # get reward, done flag and state_next\n",
    "        act_current = act_current.cpu().detach().numpy()\n",
    "        env_info = env.step(act_current)[brain_name]\n",
    "        reward = env_info.rewards\n",
    "        done = env_info.local_done \n",
    "        state_next = env_info.vector_observations\n",
    "        \n",
    "        # append state_current, act_current, reward and done flag into list\n",
    "        action_list.append(act_current)\n",
    "        reward_list.append(reward)\n",
    "        prob_list.append(prob)        \n",
    "        value_list.append(value_current.cpu().detach().numpy())\n",
    "        \n",
    "        # assign state_next to state_current\n",
    "        state_current = state_next\n",
    "        \n",
    "        if any(done):\n",
    "            break\n",
    "    \n",
    "    # transfer to numpy array from list\n",
    "    state_list = np.array(state_list)\n",
    "    action_list = np.array(action_list)\n",
    "    prob_list = np.array(prob_list)\n",
    "    value_list = np.array(value_list)\n",
    "    reward_list = np.array(reward_list)\n",
    "    reward_list = np.expand_dims(reward_list, -1)\n",
    "    \n",
    "    \n",
    "    return state_list, action_list, prob_list, reward_list, value_list\n",
    "            "
   ]
  },
  {
   "cell_type": "code",
   "execution_count": 9,
   "metadata": {},
   "outputs": [],
   "source": [
    "# test cell\n",
    "# states, actions, probs, rewards, values = collect_trajectories(env, policy)"
   ]
  },
  {
   "cell_type": "markdown",
   "metadata": {},
   "source": [
    "### this section define the function that calculate loss"
   ]
  },
  {
   "cell_type": "code",
   "execution_count": 10,
   "metadata": {},
   "outputs": [],
   "source": [
    "# helper funtion for normalize rewards and values\n",
    "def normalization(rewards):\n",
    "    rewards_mean = np.mean(rewards, 1, keepdims=True)\n",
    "    rewards_std = np.std(rewards, 1, keepdims=True)+1e-10\n",
    "    rewards_normalize = (rewards-rewards_mean)/rewards_std\n",
    "    \n",
    "    return rewards_normalize\n",
    "\n",
    "# helper function for calculate discounted future rewards, td_error, advantage and monte-carlo advantage\n",
    "def Cal_GAE(rewards, values, reward_discount = 0.99, adv_discount = 0.95): \n",
    "    # create variables for storing cumulative rewards\n",
    "    reward_future = np.zeros(np.shape(rewards))\n",
    "    reward_future_pre = np.zeros(np.shape(rewards[0]))\n",
    "    \n",
    "    # create variables for storing cumulative advantage estimation\n",
    "    advantage = np.zeros(np.shape(rewards))\n",
    "    advantage_pre = np.zeros(np.shape(rewards[0]))\n",
    "    \n",
    "    # create variables for storing td_error\n",
    "    td_error = np.zeros(np.shape(rewards))\n",
    "    \n",
    "    # loop in reversed order\n",
    "    for i in reversed(range(len(rewards))):\n",
    "        \n",
    "        # calculate cumulative reward\n",
    "        reward_future[i] = rewards[i] + reward_discount*reward_future_pre\n",
    "        reward_future_pre = reward_future[i]\n",
    "        \n",
    "        # calculate td_error\n",
    "        if i == len(rewards)-1:\n",
    "            td_error[i] = rewards[i] - values[i]\n",
    "        else:\n",
    "            td_error[i] = rewards[i] + reward_discount*values[i+1] - values[i]\n",
    "            \n",
    "        # calculate advantage\n",
    "        advantage[i] = td_error[i] + reward_discount*adv_discount*advantage_pre\n",
    "        advantage_pre = advantage[i]\n",
    "        \n",
    "        # calculate monte-carlo advantage\n",
    "        mc_error = reward_future-values\n",
    "\n",
    "    return reward_future, td_error, advantage, mc_error"
   ]
  },
  {
   "cell_type": "code",
   "execution_count": 11,
   "metadata": {},
   "outputs": [],
   "source": [
    "# test cell\n",
    "# reward_future, td_error, advantage, mc_error = Cal_GAE(rewards, values)"
   ]
  },
  {
   "cell_type": "code",
   "execution_count": 12,
   "metadata": {},
   "outputs": [],
   "source": [
    "# function for calculating loss\n",
    "def clipped_surrogate(policy, states, actions, prob_old, reward_future, td_error, advantage, mc_error, \n",
    "                      epsilon=0.2, beta=0.01, mse_w = 0.5, mode = \"advantage\"):\n",
    "       \n",
    "    # transfer reward_future, td_error and advantage to tensor\n",
    "    reward_future = torch.tensor(reward_future, dtype=torch.float, device=device)\n",
    "    mc_error = torch.tensor(mc_error, dtype=torch.float, device=device)\n",
    "    td_error = torch.tensor(td_error, dtype=torch.float, device=device)\n",
    "    advantage = torch.tensor(advantage, dtype=torch.float, device=device)\n",
    "    \n",
    "    # calculate mu, sigma and state value\n",
    "    states = torch.tensor(states, dtype=torch.float, device=device)\n",
    "    mu, sigma, value = policy(states)\n",
    "    \n",
    "    # calculate current action probability\n",
    "    actions = torch.tensor(actions, dtype=torch.float, device=device)\n",
    "    dist_training = Normal(mu, sigma)\n",
    "    prob_new = torch.exp(dist_training.log_prob(actions))\n",
    "    \n",
    "    # calculate probability ratio = prob_new/prob_old\n",
    "    prob_old = torch.tensor(prob_old, dtype=torch.float, device=device)\n",
    "    ratio = prob_new/prob_old\n",
    "\n",
    "    # calculate clipped loss function\n",
    "    ratio_clip = torch.clamp(ratio, 1-epsilon, 1+epsilon)\n",
    "    if mode == \"MC\":\n",
    "        clipped_surrogate_loss = -torch.mean(torch.min(ratio*mc_error, ratio_clip*mc_error))\n",
    "    elif mode == \"TD\":\n",
    "        clipped_surrogate_loss = -torch.mean(torch.min(ratio*td_error, ratio_clip*td_error))\n",
    "    else:\n",
    "        clipped_surrogate_loss = -torch.mean(torch.min(ratio*advantage, ratio_clip*advantage))\n",
    "\n",
    "    # calculate MSE loss value \n",
    "    mse_loss = torch.mean((reward_future - value).pow(2))\n",
    "    \n",
    "    # calculate entropy regularization term\n",
    "    entropy_loss = -torch.mean(dist_training.entropy())\n",
    "    \n",
    "    # total loss\n",
    "    total_loss = clipped_surrogate_loss + mse_w*mse_loss + beta*entropy_loss\n",
    "    \n",
    "    return total_loss, clipped_surrogate_loss, mse_loss, entropy_loss"
   ]
  },
  {
   "cell_type": "code",
   "execution_count": 13,
   "metadata": {},
   "outputs": [],
   "source": [
    "# test cell\n",
    "# L1, L2, L3, L4 = clipped_surrogate(policy, states, actions, probs, reward_future, td_error, advantage, mc_error)"
   ]
  },
  {
   "cell_type": "markdown",
   "metadata": {},
   "source": [
    "### this section is the main training loop"
   ]
  },
  {
   "cell_type": "code",
   "execution_count": 15,
   "metadata": {},
   "outputs": [],
   "source": [
    "# hyperparameters\n",
    "discount_reward = .99\n",
    "discount_advantage = 0.8\n",
    "epsilon = 0.2\n",
    "epsilon_decay = 0.998\n",
    "beta = 0.01\n",
    "beta_decay = 0.99\n",
    "mse_w = 0.5\n",
    "epi_search = 1.0"
   ]
  },
  {
   "cell_type": "code",
   "execution_count": 16,
   "metadata": {},
   "outputs": [],
   "source": [
    "# training config\n",
    "episode = 250\n",
    "tmax = 1000\n",
    "step = 20\n",
    "minibatch_size = 20\n",
    "load_flag = False\n",
    "shuffle_flag = True\n",
    "normalization_flag = True\n",
    "GAE_mode = \"GAE\"\n",
    "saving_flag = True"
   ]
  },
  {
   "cell_type": "code",
   "execution_count": 17,
   "metadata": {
    "scrolled": true
   },
   "outputs": [
    {
     "name": "stdout",
     "output_type": "stream",
     "text": [
      "Collecting progressbar\n",
      "  Downloading https://files.pythonhosted.org/packages/a3/a6/b8e451f6cff1c99b4747a2f7235aa904d2d49e8e1464e0b798272aa84358/progressbar-2.5.tar.gz\n",
      "Building wheels for collected packages: progressbar\n",
      "  Running setup.py bdist_wheel for progressbar ... \u001b[?25ldone\n",
      "\u001b[?25h  Stored in directory: /root/.cache/pip/wheels/c0/e9/6b/ea01090205e285175842339aa3b491adeb4015206cda272ff0\n",
      "Successfully built progressbar\n",
      "Installing collected packages: progressbar\n",
      "Successfully installed progressbar-2.5\n"
     ]
    },
    {
     "name": "stderr",
     "output_type": "stream",
     "text": [
      "training loop:   8% |###                                        | ETA:  0:38:06\r"
     ]
    },
    {
     "name": "stdout",
     "output_type": "stream",
     "text": [
      "Episode: 20, score: 4.319000\n",
      "[ 7.34999984  4.19999991  3.47999992  5.06999989  5.36999988  2.80999994\n",
      "  2.03999995  5.14999988  3.98999991  4.4099999   4.4899999   2.93999993\n",
      "  5.18999988  4.09999991  4.87999989  6.12999986  3.76999992  2.21999995\n",
      "  3.62999992  5.15999988]\n"
     ]
    },
    {
     "name": "stderr",
     "output_type": "stream",
     "text": [
      "training loop:  16% |######                                     | ETA:  0:34:12\r"
     ]
    },
    {
     "name": "stdout",
     "output_type": "stream",
     "text": [
      "Episode: 40, score: 15.502000\n",
      "[  7.97999982  20.81999953  20.18999955  20.93999953   8.62999981\n",
      "   6.43999986  12.64999972  11.67999974  25.74999942  23.77999947\n",
      "  20.86999953   8.64999981  12.72999972  10.11999977  25.34999943\n",
      "  15.29999966  19.74999956  16.14999964   9.68999978  12.56999972]\n"
     ]
    },
    {
     "name": "stderr",
     "output_type": "stream",
     "text": [
      "training loop:  24% |##########                                 | ETA:  0:30:38\r"
     ]
    },
    {
     "name": "stdout",
     "output_type": "stream",
     "text": [
      "Episode: 60, score: 26.845999\n",
      "[ 28.36999937  27.40999939  23.93999946  26.35999941  30.38999932\n",
      "  16.34999963  32.61999927  12.57999972  25.17999944  39.50999912\n",
      "  21.67999952  30.26999932  27.88999938  23.79999947  28.26999937\n",
      "  30.57999932  24.71999945  32.21999928  28.03999937  26.7399994 ]\n"
     ]
    },
    {
     "name": "stderr",
     "output_type": "stream",
     "text": [
      "training loop:  32% |#############                              | ETA:  0:27:22\r"
     ]
    },
    {
     "name": "stdout",
     "output_type": "stream",
     "text": [
      "Episode: 80, score: 29.962499\n",
      "[ 32.66999927  31.71999929  32.38999928  25.91999942  27.60999938\n",
      "   9.78999978  37.29999917  33.00999926  32.15999928  29.00999935\n",
      "  32.26999928  32.53999927  32.41999928  25.99999942  30.49999932\n",
      "  32.28999928  28.97999935  29.61999934  32.01999928  31.02999931]\n"
     ]
    },
    {
     "name": "stderr",
     "output_type": "stream",
     "text": [
      "training loop:  40% |#################                          | ETA:  0:24:10\r"
     ]
    },
    {
     "name": "stdout",
     "output_type": "stream",
     "text": [
      "Episode: 100, score: 35.348499\n",
      "[ 38.65999914  34.48999923  37.59999916  34.83999922  33.84999924\n",
      "  38.28999914  34.64999923  37.56999916  27.57999938  37.62999916\n",
      "  38.95999913  36.12999919  39.07999913  31.4799993   30.96999931\n",
      "  34.02999924  37.48999916  35.04999922  34.24999923  34.36999923]\n"
     ]
    },
    {
     "name": "stderr",
     "output_type": "stream",
     "text": [
      "training loop:  48% |####################                       | ETA:  0:20:52\r"
     ]
    },
    {
     "name": "stdout",
     "output_type": "stream",
     "text": [
      "Episode: 120, score: 33.497499\n",
      "[ 36.85999918  33.25999926  31.82999929  27.65999938  33.41999925\n",
      "  39.38999912  38.87999913  39.03999913  27.11999939  32.80999927\n",
      "  30.87999931  28.99999935  34.12999924  37.85999915  30.97999931\n",
      "  34.70999922  37.16999917  38.30999914  25.22999944  31.4099993 ]\n"
     ]
    },
    {
     "name": "stderr",
     "output_type": "stream",
     "text": [
      "training loop: 100% |###########################################| Time: 0:21:36\r"
     ]
    },
    {
     "name": "stdout",
     "output_type": "stream",
     "text": [
      "\n",
      "Environment solved in 34 episodes!\tAverage Score: 30.14\n"
     ]
    },
    {
     "name": "stderr",
     "output_type": "stream",
     "text": [
      "\n"
     ]
    }
   ],
   "source": [
    "# import package that include function to keep workspace alive\n",
    "import os\n",
    "import requests\n",
    "import time\n",
    "import matplotlib.pyplot as plt\n",
    "from collections import deque\n",
    "\n",
    "# main training function\n",
    "from parallelEnv import parallelEnv\n",
    "# keep track of how long training takes\n",
    "\n",
    "# load policy if needed\n",
    "if load_flag == True:\n",
    "    policy = torch.load('PPO_Reacher.policy')\n",
    "\n",
    "# widget bar to display progress\n",
    "!pip install progressbar\n",
    "import progressbar as pb\n",
    "widget = ['training loop: ', pb.Percentage(), ' ', \n",
    "          pb.Bar(), ' ', pb.ETA() ]\n",
    "timer = pb.ProgressBar(widgets=widget, maxval=episode).start()\n",
    "\n",
    "# keep track of progress\n",
    "mean_rewards = []\n",
    "loss_clip_his = []\n",
    "loss_mse_his = []\n",
    "loss_entropy_his = []\n",
    "mean_rewards_window = deque(maxlen=100)  # last 100 scores\n",
    "mean_rewards_window_his = []\n",
    "\n",
    "# start time tracker time\n",
    "old_time = time.time()\n",
    "response = requests.request(\"GET\", \n",
    "                            \"http://metadata.google.internal/computeMetadata/v1/instance/attributes/keep_alive_token\", \n",
    "                            headers={\"Metadata-Flavor\":\"Google\"})\n",
    "\n",
    "for e in range(episode):\n",
    "    \n",
    "    # check current time and old time difference, if difference is too big, send request to keep workspace alive\n",
    "    if time.time() - old_time > 60:\n",
    "            old_time = time.time()\n",
    "            requests.request(\"POST\", \n",
    "                             \"https://nebula.udacity.com/api/v1/remote/keep-alive\", \n",
    "                             headers={'Authorization': \"STAR \" + response.text})\n",
    "    \n",
    "    # collect trajectories\n",
    "    states, actions, probs, rewards, values = collect_trajectories(env, policy, tmax, num_agents, \n",
    "                                                               state_size, action_size, epi_search)\n",
    "    \n",
    "    # helper function for calculate discounted future rewards, td_error, advantage and monte-carlo advantage\n",
    "    reward_future, td_error, advantage, mc_error = Cal_GAE(rewards, values, \n",
    "                                                           discount_reward, discount_advantage)\n",
    "    \n",
    "    # normalize advantage estimations\n",
    "    if normalization_flag == True:\n",
    "        td_error = normalization(td_error)\n",
    "        advantage = normalization(advantage)\n",
    "        mc_error = normalization(mc_error)\n",
    "    \n",
    "    \n",
    "    # declare variable to store total rewards for each episode                   \n",
    "    total_rewards = np.sum(rewards, axis=0)\n",
    "    total_rewards = total_rewards.squeeze(-1)\n",
    "    \n",
    "    \n",
    "    # create temporary variable to accumulate loss for each epoch\n",
    "    L_clip_temp = 0\n",
    "    L_mse_temp = 0\n",
    "    L_entropy_temm = 0\n",
    "    \n",
    "    # loop through each step\n",
    "    for _ in range(step):\n",
    "        \n",
    "        # random shuffle indices for training\n",
    "        if shuffle_flag == True:\n",
    "            indices = np.arange(len(states))\n",
    "            np.random.shuffle(indices)\n",
    "            \n",
    "        # calculate SGD_epoch based on (length of data)/minibatch\n",
    "        SGD_epoch = len(states)//minibatch_size\n",
    "                \n",
    "        for i in range(SGD_epoch):\n",
    "\n",
    "            # retreive minibatch indices\n",
    "            ind_start = i*minibatch_size\n",
    "            ind_end = min([(i+1)*minibatch_size,len(states)])\n",
    "            indices_train = indices[ind_start:ind_end]\n",
    "\n",
    "            # retreive minibatch data\n",
    "            states_mini = states[indices_train]\n",
    "            actions_mini = actions[indices_train]\n",
    "            probs_old_mini = probs[indices_train]\n",
    "            reward_future_mini = reward_future[indices_train]\n",
    "            td_error_mini = td_error[indices_train]\n",
    "            advantage_mini = advantage[indices_train]\n",
    "            mc_error_mini = mc_error[indices_train]\n",
    "                        \n",
    "            # calculate loss function and keep track of clip loss, mse loss and entropy loss\n",
    "            L, L_clip, L_mse, L_entropy = clipped_surrogate(policy, states_mini, actions_mini, probs_old_mini, \n",
    "                                                            reward_future_mini, td_error_mini, advantage_mini, mc_error_mini,\n",
    "                                                            epsilon, beta, mse_w, GAE_mode)\n",
    "            \n",
    "            # accumulate loss history\n",
    "            L_clip_temp = L_clip_temp + L_clip\n",
    "            L_mse_temp = L_mse_temp + L_mse\n",
    "            L_entropy_temm = L_entropy_temm + L_entropy\n",
    "\n",
    "            # optimize neural network parameters\n",
    "            optimizer.zero_grad()\n",
    "            L.backward()\n",
    "            optimizer.step()\n",
    "            del L, L_clip, L_mse, L_entropy\n",
    "\n",
    "    # the clipping parameter reduces as time goes on\n",
    "    epsilon*=epsilon_decay\n",
    "    \n",
    "    # the regulation term also reduces\n",
    "    # this reduces exploration in later runs\n",
    "    beta*=beta_decay\n",
    "#     if beta<1e-4:\n",
    "#         beta = 1e-4\n",
    "    \n",
    "    # epi_search update\n",
    "#     epi_search = epi_search*0.995\n",
    "#     if epi_search<0.001:\n",
    "#         epi_search = 0.001\n",
    "    \n",
    "    # get the average reward and loss of the parallel environments\n",
    "    mean_rewards.append(np.mean(total_rewards))\n",
    "    mean_rewards_window.append(np.mean(total_rewards))\n",
    "    mean_rewards_window_his.append(np.mean(mean_rewards_window))\n",
    "    loss_clip_his.append(L_clip_temp/step/SGD_epoch)\n",
    "    loss_mse_his.append(L_mse_temp/step/SGD_epoch)\n",
    "    loss_entropy_his.append(L_entropy_temm/step/SGD_epoch)\n",
    "    \n",
    "    # display some progress every 20 iterations\n",
    "    if (e+1)%20 ==0 :\n",
    "        print(\"Episode: {0:d}, score: {1:f}\".format(e+1,np.mean(total_rewards)))\n",
    "        print(total_rewards)\n",
    "    if np.mean(mean_rewards_window)>=30.0:\n",
    "        print('\\nEnvironment solved in {:d} episodes!\\tAverage Score: {:.2f}'.format(e-100, \n",
    "                                                                                     np.mean(mean_rewards_window)))\n",
    "        break\n",
    "        \n",
    "    # update progress widget bar\n",
    "    timer.update(e+1)\n",
    "    \n",
    "timer.finish()"
   ]
  },
  {
   "cell_type": "code",
   "execution_count": 18,
   "metadata": {},
   "outputs": [
    {
     "data": {
      "text/plain": [
       "[<matplotlib.lines.Line2D at 0x7f5675ec0c50>]"
      ]
     },
     "execution_count": 18,
     "metadata": {},
     "output_type": "execute_result"
    },
    {
     "data": {
      "image/png": "[encoded data removed]",
      "text/plain": [
       "<matplotlib.figure.Figure at 0x7f56bc7980b8>"
      ]
     },
     "metadata": {
      "needs_background": "light"
     },
     "output_type": "display_data"
    }
   ],
   "source": [
    "plt.plot(mean_rewards)\n",
    "plt.plot(np.ones(len(mean_rewards))*30.0)"
   ]
  },
  {
   "cell_type": "code",
   "execution_count": 19,
   "metadata": {},
   "outputs": [
    {
     "data": {
      "text/plain": [
       "[<matplotlib.lines.Line2D at 0x7f5675de3128>]"
      ]
     },
     "execution_count": 19,
     "metadata": {},
     "output_type": "execute_result"
    },
    {
     "data": {
      "image/png": "[encoded data removed]",
      "text/plain": [
       "<matplotlib.figure.Figure at 0x7f5675e8b5f8>"
      ]
     },
     "metadata": {
      "needs_background": "light"
     },
     "output_type": "display_data"
    }
   ],
   "source": [
    "plt.plot(loss_entropy_his)"
   ]
  },
  {
   "cell_type": "code",
   "execution_count": 20,
   "metadata": {},
   "outputs": [
    {
     "data": {
      "text/plain": [
       "[<matplotlib.lines.Line2D at 0x7f5675d52198>]"
      ]
     },
     "execution_count": 20,
     "metadata": {},
     "output_type": "execute_result"
    },
    {
     "data": {
      "image/png": "[encoded data removed]",
      "text/plain": [
       "<matplotlib.figure.Figure at 0x7f5675e2d7f0>"
      ]
     },
     "metadata": {
      "needs_background": "light"
     },
     "output_type": "display_data"
    }
   ],
   "source": [
    "plt.plot(loss_clip_his)"
   ]
  },
  {
   "cell_type": "code",
   "execution_count": 21,
   "metadata": {},
   "outputs": [
    {
     "name": "stderr",
     "output_type": "stream",
     "text": [
      "/opt/conda/lib/python3.6/site-packages/torch/serialization.py:193: UserWarning: Couldn't retrieve source code for container of type Policy. It won't be checked for correctness upon loading.\n",
      "  \"type \" + obj.__name__ + \". It won't be checked \"\n"
     ]
    }
   ],
   "source": [
    "# save current policy\n",
    "if saving_flag == True:\n",
    "    torch.save(policy, 'PPO_Reacher.policy')"
   ]
  },
  {
   "cell_type": "code",
   "execution_count": 22,
   "metadata": {},
   "outputs": [],
   "source": [
    "env.close()"
   ]
  }
 ],
 "metadata": {
  "kernelspec": {
   "display_name": "Python 3",
   "language": "python",
   "name": "python3"
  },
  "language_info": {
   "codemirror_mode": {
    "name": "ipython",
    "version": 3
   },
   "file_extension": ".py",
   "mimetype": "text/x-python",
   "name": "python",
   "nbconvert_exporter": "python",
   "pygments_lexer": "ipython3",
   "version": "3.8.5"
  }
 },
 "nbformat": 4,
 "nbformat_minor": 2
}
