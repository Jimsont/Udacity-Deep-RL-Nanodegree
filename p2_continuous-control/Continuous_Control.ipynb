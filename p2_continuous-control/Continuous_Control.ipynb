{
 "cells": [
  {
   "cell_type": "markdown",
   "metadata": {},
   "source": [
    "# Continuous Control\n",
    "\n",
    "---\n",
    "\n",
    "You are welcome to use this coding environment to train your agent for the project.  Follow the instructions below to get started!\n",
    "\n",
    "### 1. Start the Environment\n",
    "\n",
    "Run the next code cell to install a few packages.  This line will take a few minutes to run!"
   ]
  },
  {
   "cell_type": "code",
   "execution_count": 1,
   "metadata": {},
   "outputs": [
    {
     "name": "stdout",
     "output_type": "stream",
     "text": [
      "\u001b[31mtensorflow 1.7.1 has requirement numpy>=1.13.3, but you'll have numpy 1.12.1 which is incompatible.\u001b[0m\r\n",
      "\u001b[31mipython 6.5.0 has requirement prompt-toolkit<2.0.0,>=1.0.15, but you'll have prompt-toolkit 3.0.19 which is incompatible.\u001b[0m\r\n"
     ]
    }
   ],
   "source": [
    "!pip -q install ./python"
   ]
  },
  {
   "cell_type": "markdown",
   "metadata": {},
   "source": [
    "The environments corresponding to both versions of the environment are already saved in the Workspace and can be accessed at the file paths provided below.  \n",
    "\n",
    "Please select one of the two options below for loading the environment."
   ]
  },
  {
   "cell_type": "code",
   "execution_count": 2,
   "metadata": {},
   "outputs": [
    {
     "name": "stderr",
     "output_type": "stream",
     "text": [
      "INFO:unityagents:\n",
      "'Academy' started successfully!\n",
      "Unity Academy name: Academy\n",
      "        Number of Brains: 1\n",
      "        Number of External Brains : 1\n",
      "        Lesson number : 0\n",
      "        Reset Parameters :\n",
      "\t\tgoal_speed -> 1.0\n",
      "\t\tgoal_size -> 5.0\n",
      "Unity brain name: ReacherBrain\n",
      "        Number of Visual Observations (per agent): 0\n",
      "        Vector Observation space type: continuous\n",
      "        Vector Observation space size (per agent): 33\n",
      "        Number of stacked Vector Observation: 1\n",
      "        Vector Action space type: continuous\n",
      "        Vector Action space size (per agent): 4\n",
      "        Vector Action descriptions: , , , \n"
     ]
    }
   ],
   "source": [
    "from unityagents import UnityEnvironment\n",
    "import numpy as np\n",
    "\n",
    "# select this option to load version 1 (with a single agent) of the environment\n",
    "# env = UnityEnvironment(file_name='/data/Reacher_One_Linux_NoVis/Reacher_One_Linux_NoVis.x86_64')\n",
    "\n",
    "# select this option to load version 2 (with 20 agents) of the environment\n",
    "env = UnityEnvironment(file_name='/data/Reacher_Linux_NoVis/Reacher.x86_64')"
   ]
  },
  {
   "cell_type": "markdown",
   "metadata": {},
   "source": [
    "Environments contain **_brains_** which are responsible for deciding the actions of their associated agents. Here we check for the first brain available, and set it as the default brain we will be controlling from Python."
   ]
  },
  {
   "cell_type": "code",
   "execution_count": 3,
   "metadata": {},
   "outputs": [],
   "source": [
    "# get the default brain\n",
    "brain_name = env.brain_names[0]\n",
    "brain = env.brains[brain_name]"
   ]
  },
  {
   "cell_type": "markdown",
   "metadata": {},
   "source": [
    "### 2. Examine the State and Action Spaces\n",
    "\n",
    "Run the code cell below to print some information about the environment."
   ]
  },
  {
   "cell_type": "code",
   "execution_count": 4,
   "metadata": {},
   "outputs": [
    {
     "name": "stdout",
     "output_type": "stream",
     "text": [
      "Number of agents: 20\n",
      "Size of each action: 4\n",
      "There are 20 agents. Each observes a state with length: 33\n",
      "The state for the first agent looks like: [  0.00000000e+00  -4.00000000e+00   0.00000000e+00   1.00000000e+00\n",
      "  -0.00000000e+00  -0.00000000e+00  -4.37113883e-08   0.00000000e+00\n",
      "   0.00000000e+00   0.00000000e+00   0.00000000e+00   0.00000000e+00\n",
      "   0.00000000e+00   0.00000000e+00  -1.00000000e+01   0.00000000e+00\n",
      "   1.00000000e+00  -0.00000000e+00  -0.00000000e+00  -4.37113883e-08\n",
      "   0.00000000e+00   0.00000000e+00   0.00000000e+00   0.00000000e+00\n",
      "   0.00000000e+00   0.00000000e+00   5.75471878e+00  -1.00000000e+00\n",
      "   5.55726624e+00   0.00000000e+00   1.00000000e+00   0.00000000e+00\n",
      "  -1.68164849e-01]\n"
     ]
    }
   ],
   "source": [
    "# reset the environment\n",
    "env_info = env.reset(train_mode=True)[brain_name]\n",
    "\n",
    "# number of agents\n",
    "num_agents = len(env_info.agents)\n",
    "print('Number of agents:', num_agents)\n",
    "\n",
    "# size of each action\n",
    "action_size = brain.vector_action_space_size\n",
    "print('Size of each action:', action_size)\n",
    "\n",
    "# examine the state space \n",
    "states = env_info.vector_observations\n",
    "state_size = states.shape[1]\n",
    "print('There are {} agents. Each observes a state with length: {}'.format(states.shape[0], state_size))\n",
    "print('The state for the first agent looks like:', states[0])"
   ]
  },
  {
   "cell_type": "markdown",
   "metadata": {},
   "source": [
    "### 3. Take Random Actions in the Environment\n",
    "\n",
    "In the next code cell, you will learn how to use the Python API to control the agent and receive feedback from the environment.\n",
    "\n",
    "Note that **in this coding environment, you will not be able to watch the agents while they are training**, and you should set `train_mode=True` to restart the environment."
   ]
  },
  {
   "cell_type": "code",
   "execution_count": 5,
   "metadata": {},
   "outputs": [
    {
     "name": "stdout",
     "output_type": "stream",
     "text": [
      "Total score (averaged over agents) this episode: 0.12149999728426338\n",
      "1001\n"
     ]
    }
   ],
   "source": [
    "env_info = env.reset(train_mode=True)[brain_name]      # reset the environment    \n",
    "states = env_info.vector_observations                  # get the current state (for each agent)\n",
    "scores = np.zeros(num_agents)                          # initialize the score (for each agent)\n",
    "count = 0\n",
    "while True:\n",
    "    actions = np.random.randn(num_agents, action_size) # select an action (for each agent)\n",
    "    actions = np.clip(actions, -1, 1)                  # all actions between -1 and 1\n",
    "    env_info = env.step(actions)[brain_name]           # send all actions to tne environment\n",
    "    next_states = env_info.vector_observations         # get next state (for each agent)\n",
    "    rewards = env_info.rewards                         # get reward (for each agent)\n",
    "    dones = env_info.local_done                        # see if episode finished\n",
    "    scores += env_info.rewards                         # update the score (for each agent)\n",
    "    states = next_states                               # roll over states to next time step\n",
    "    count = count+1\n",
    "    if np.any(dones):                                  # exit loop if episode finished\n",
    "        break\n",
    "print('Total score (averaged over agents) this episode: {}'.format(np.mean(scores)))\n",
    "print(count)"
   ]
  },
  {
   "cell_type": "markdown",
   "metadata": {},
   "source": [
    "When finished, you can close the environment."
   ]
  },
  {
   "cell_type": "code",
   "execution_count": 6,
   "metadata": {},
   "outputs": [],
   "source": [
    "# env.close()"
   ]
  },
  {
   "cell_type": "markdown",
   "metadata": {},
   "source": [
    "### 4. It's Your Turn!\n",
    "\n",
    "Now it's your turn to train your own agent to solve the environment!  A few **important notes**:\n",
    "- When training the environment, set `train_mode=True`, so that the line for resetting the environment looks like the following:\n",
    "```python\n",
    "env_info = env.reset(train_mode=True)[brain_name]\n",
    "```\n",
    "- To structure your work, you're welcome to work directly in this Jupyter notebook, or you might like to start over with a new file!  You can see the list of files in the workspace by clicking on **_Jupyter_** in the top left corner of the notebook.\n",
    "- In this coding environment, you will not be able to watch the agents while they are training.  However, **_after training the agents_**, you can download the saved model weights to watch the agents on your own machine! "
   ]
  },
  {
   "cell_type": "markdown",
   "metadata": {},
   "source": [
    "### this section create model class"
   ]
  },
  {
   "cell_type": "code",
   "execution_count": 7,
   "metadata": {},
   "outputs": [],
   "source": [
    "# create neural network policy and optimizer\n",
    "import torch\n",
    "import torch.nn as nn\n",
    "import torch.nn.functional as F\n",
    "\n",
    "# set up a neural net that outputs actions, sigma for each action and state value\n",
    "device = torch.device(\"cuda:0\" if torch.cuda.is_available() else \"cpu\")\n",
    "\n",
    "class Policy(nn.Module):\n",
    "    \n",
    "    # initialize layers\n",
    "    def __init__(self, s_size=33, h_size=64, a_size=4):\n",
    "        super(Policy, self).__init__()\n",
    "\n",
    "        \n",
    "        self.fc1 = nn.Linear(s_size, h_size)\n",
    "        self.fc2 = nn.Linear(h_size, h_size)\n",
    "        \n",
    "        self.fc_critic1 = nn.Linear(s_size, h_size)\n",
    "        self.fc_critic2 = nn.Linear(h_size, h_size)\n",
    "        \n",
    "        self.fc_action = nn.Linear(h_size, a_size)\n",
    "        self.fc_value = nn.Linear(h_size, 1)\n",
    "        self.fc_sigma = nn.Linear(h_size, a_size)\n",
    "                \n",
    "    # forward function for calculating mu, sigma and value\n",
    "    def forward(self, state):\n",
    "        \n",
    "        x = F.relu(self.fc1(state))\n",
    "        x = F.relu(self.fc2(x))\n",
    "        # action outputs\n",
    "        mu = F.tanh(self.fc_action(x))\n",
    "        # sigma output\n",
    "#         sigma = F.softplus(self.fc_sigma(x))\n",
    "        sigma = F.sigmoid(self.fc_sigma(x))\n",
    "\n",
    "        # critic value output\n",
    "        x2 = F.relu(self.fc_critic1(state))\n",
    "        x2 = F.relu(self.fc_critic2(x2))\n",
    "        value = self.fc_value(x2)\n",
    "        \n",
    "        return mu, sigma, value\n",
    "    \n",
    "    \n",
    "# run your own policy!\n",
    "policy=Policy().to(device)\n",
    "\n",
    "# we use the adam optimizer with learning rate 2e-4\n",
    "# optim.SGD is also possible\n",
    "import torch.optim as optim\n",
    "optimizer = optim.Adam(policy.parameters(), lr=1e-4)"
   ]
  },
  {
   "cell_type": "markdown",
   "metadata": {},
   "source": [
    "### this section define the function which generate trajectories"
   ]
  },
  {
   "cell_type": "code",
   "execution_count": 8,
   "metadata": {},
   "outputs": [],
   "source": [
    "## build function that collect history data\n",
    "from torch.distributions import Normal\n",
    "\n",
    "def collect_trajectories(env, policy, tmax=200, rand_start=True, num_agents=20, state_size=33, action_size=4):\n",
    "    action_list = []\n",
    "    state_list = []\n",
    "    reward_list = []\n",
    "    prob_list = []\n",
    "    \n",
    "    # reset environment\n",
    "    brain_name = env.brain_names[0]\n",
    "    env_info = env.reset(train_mode=True)[brain_name] \n",
    "            \n",
    "    if rand_start == True:\n",
    "        action = np.random.randn(num_agents, action_size)\n",
    "        action = np.clip(actions, -0.1, 0.1) \n",
    "        env_info = env.step(action)[brain_name] \n",
    "    \n",
    "    # get starting state\n",
    "    state_current = env_info.vector_observations\n",
    "    \n",
    "    for t in range(tmax):\n",
    "        # append current state to state list\n",
    "        state_list.append(state_current)\n",
    "        \n",
    "        # map current state to mu_current, sigma_current\n",
    "        state_current = torch.from_numpy(state_current).to(torch.float).to(device)\n",
    "        mu_current, sigma_current, _ = policy(state_current)\n",
    "        \n",
    "        # create distribution object\n",
    "        dist = Normal(mu_current, sigma_current)\n",
    "        \n",
    "        # get action\n",
    "        act_current = dist.sample()\n",
    "        act_current = torch.clamp(act_current, -1, 1)\n",
    "        \n",
    "        # calculate probabiliy of act_current\n",
    "        prob = torch.exp(dist.log_prob(act_current))\n",
    "        prob = prob.cpu().detach().numpy()\n",
    "        \n",
    "        # get reward, done flag and state_next\n",
    "        act_current = act_current.cpu().detach().numpy()\n",
    "        env_info = env.step(act_current)[brain_name]\n",
    "        reward = env_info.rewards\n",
    "        done = env_info.local_done \n",
    "        state_next = env_info.vector_observations\n",
    "        \n",
    "        # append state_current, act_current, reward and done flag into list\n",
    "        action_list.append(act_current)\n",
    "        reward_list.append(reward)\n",
    "        prob_list.append(prob)\n",
    "        \n",
    "        # assign state_next to state_current\n",
    "        state_current = state_next\n",
    "        \n",
    "        if any(done):\n",
    "            break\n",
    "    \n",
    "    return state_list, action_list, prob_list, reward_list\n",
    "            "
   ]
  },
  {
   "cell_type": "markdown",
   "metadata": {},
   "source": [
    "### this section define the function that calculate loss"
   ]
  },
  {
   "cell_type": "code",
   "execution_count": 9,
   "metadata": {},
   "outputs": [],
   "source": [
    "# helper function used in clipped_surrogate\n",
    "def Cal_future_reward(rewards, discount):\n",
    "    # reterive number of time step\n",
    "    n_step = len(rewards)    \n",
    "    \n",
    "    # create reward_future which will store all the future rewards\n",
    "    rewards = np.asarray(rewards)\n",
    "    reward_future = np.zeros(np.shape(rewards))\n",
    "    reward_future[-1] = rewards[-1]\n",
    "    for i in range(1, n_step):\n",
    "        reward_future[n_step-1-i] = rewards[n_step-1-i] + reward_future[n_step-i]*discount\n",
    "\n",
    "    return reward_future\n",
    "\n",
    "\n",
    "# function for calculating loss\n",
    "def clipped_surrogate(policy, states, actions, prob_old, rewards, discount = 0.995, epsilon=0.2, beta=0.01, mse_w = 0.5):\n",
    "    \n",
    "    # calculate future rewards\n",
    "    reward_future = Cal_future_reward(rewards, discount)\n",
    "    \n",
    "    # normalize feature reward\n",
    "    reward_mean = np.mean(reward_future, axis=1)\n",
    "    std = np.std(reward_future, axis=1) + 1.0e-10\n",
    "    rewards_normalized = (reward_future - reward_mean[:,np.newaxis])/std[:,np.newaxis]\n",
    "    \n",
    "    # expand dimension to the dimension of output from policy and transfer variable to tensor\n",
    "    rewards_normalized = np.expand_dims(rewards_normalized, axis = 2)\n",
    "    rewards_normalized = torch.tensor(rewards_normalized, dtype=torch.float, device=device)\n",
    "\n",
    "    # calculate mu, sigma and state value\n",
    "    states = torch.tensor(states, dtype=torch.float, device=device)\n",
    "    mu, sigma, value = policy(states)\n",
    "    \n",
    "    # calculate current action probability\n",
    "    actions = torch.tensor(actions, dtype=torch.float, device=device)\n",
    "    dist_training = Normal(mu, sigma)\n",
    "    prob_new = torch.exp(dist_training.log_prob(actions))\n",
    "    \n",
    "    # calculate probability ratio = prob_new/prob_old\n",
    "    prob_old = torch.tensor(prob_old, dtype=torch.float, device=device)\n",
    "    ratio = prob_new/prob_old\n",
    "    \n",
    "    # calculate td_error\n",
    "    td_error = rewards_normalized - value.detach()\n",
    "    \n",
    "    # calculate clipped loss function\n",
    "    clip = torch.clamp(ratio, 1-epsilon, 1+epsilon)\n",
    "    clipped_surrogate_loss = -torch.mean(torch.min(ratio*td_error, clip*td_error))\n",
    "\n",
    "    # calculate MSE loss value \n",
    "    mse_loss = F.mse_loss(rewards_normalized, value)\n",
    "    \n",
    "    # calculate entropy regularization term\n",
    "    entropy_loss = -torch.mean(dist_training.entropy())\n",
    "    \n",
    "    # total loss\n",
    "    total_loss = clipped_surrogate_loss + mse_w*mse_loss + beta*entropy_loss\n",
    "    \n",
    "    return total_loss"
   ]
  },
  {
   "cell_type": "markdown",
   "metadata": {},
   "source": [
    "### this section is the main training loop"
   ]
  },
  {
   "cell_type": "code",
   "execution_count": null,
   "metadata": {
    "scrolled": true
   },
   "outputs": [
    {
     "name": "stdout",
     "output_type": "stream",
     "text": [
      "Collecting progressbar\n",
      "  Downloading https://files.pythonhosted.org/packages/a3/a6/b8e451f6cff1c99b4747a2f7235aa904d2d49e8e1464e0b798272aa84358/progressbar-2.5.tar.gz\n",
      "Building wheels for collected packages: progressbar\n",
      "  Running setup.py bdist_wheel for progressbar ... \u001b[?25ldone\n",
      "\u001b[?25h  Stored in directory: /root/.cache/pip/wheels/c0/e9/6b/ea01090205e285175842339aa3b491adeb4015206cda272ff0\n",
      "Successfully built progressbar\n",
      "Installing collected packages: progressbar\n",
      "Successfully installed progressbar-2.5\n"
     ]
    },
    {
     "name": "stderr",
     "output_type": "stream",
     "text": [
      "training loop:  10% |####                                       | ETA:  0:53:40\r"
     ]
    },
    {
     "name": "stdout",
     "output_type": "stream",
     "text": [
      "Episode: 20, score: 0.617000\n",
      "[ 0.17        0.96999998  0.43999999  0.75999998  0.73999998  0.66999999\n",
      "  0.16        0.73999998  0.78999998  0.36999999  0.53999999  0.66999999\n",
      "  0.58999999  0.17        0.51999999  0.91999998  0.          1.20999997\n",
      "  1.12999997  0.77999998]\n"
     ]
    },
    {
     "name": "stderr",
     "output_type": "stream",
     "text": [
      "training loop:  16% |#######                                    | ETA:  0:50:04\r"
     ]
    }
   ],
   "source": [
    "# main training function\n",
    "from parallelEnv import parallelEnv\n",
    "# keep track of how long training takes\n",
    "\n",
    "# load policy if needed\n",
    "# policy = torch.load('PPO.policy')\n",
    "\n",
    "# training loop max iterations\n",
    "episode = 200\n",
    "\n",
    "# widget bar to display progress\n",
    "!pip install progressbar\n",
    "import progressbar as pb\n",
    "widget = ['training loop: ', pb.Percentage(), ' ', \n",
    "          pb.Bar(), ' ', pb.ETA() ]\n",
    "timer = pb.ProgressBar(widgets=widget, maxval=episode).start()\n",
    "\n",
    "discount_rate = .995\n",
    "epsilon = 0.2\n",
    "beta = 1.0\n",
    "tmax = 700\n",
    "mse_w = 0.5\n",
    "SGD_epoch = 80\n",
    "\n",
    "# keep track of progress\n",
    "mean_rewards = []\n",
    "\n",
    "for e in range(episode):\n",
    "    \n",
    "    \n",
    "    # collect trajectories\n",
    "    states, actions, probs_old, rewards = collect_trajectories(env, policy, tmax, False, num_agents, state_size, action_size)\n",
    "    \n",
    "    total_rewards = np.sum(rewards, axis=0)\n",
    "\n",
    "\n",
    "    # gradient ascent step\n",
    "    for _ in range(SGD_epoch):\n",
    "        \n",
    "        # uncomment to utilize your own clipped function!\n",
    "        L = clipped_surrogate(policy, states, actions, probs_old, rewards, epsilon, beta, mse_w)\n",
    "#         L = -pong_utils.clipped_surrogate(policy, old_probs, states, actions, rewards,\n",
    "#                                           epsilon=epsilon, beta=beta)\n",
    "        optimizer.zero_grad()\n",
    "        L.backward()\n",
    "        optimizer.step()\n",
    "        del L\n",
    "    \n",
    "    # the clipping parameter reduces as time goes on\n",
    "    epsilon*=.999\n",
    "    \n",
    "    # the regulation term also reduces\n",
    "    # this reduces exploration in later runs\n",
    "    beta*=.995\n",
    "    \n",
    "    # get the average reward of the parallel environments\n",
    "    mean_rewards.append(np.mean(total_rewards))\n",
    "    \n",
    "    # display some progress every 20 iterations\n",
    "    if (e+1)%20 ==0 :\n",
    "        print(\"Episode: {0:d}, score: {1:f}\".format(e+1,np.mean(total_rewards)))\n",
    "        print(total_rewards)\n",
    "        \n",
    "    # update progress widget bar\n",
    "    timer.update(e+1)\n",
    "    \n",
    "timer.finish()"
   ]
  },
  {
   "cell_type": "code",
   "execution_count": null,
   "metadata": {},
   "outputs": [],
   "source": [
    "import matplotlib.pyplot as plt\n",
    "plt.figure(1),plt.plot(mean_rewards)"
   ]
  },
  {
   "cell_type": "code",
   "execution_count": null,
   "metadata": {},
   "outputs": [],
   "source": []
  }
 ],
 "metadata": {
  "kernelspec": {
   "display_name": "Python 3",
   "language": "python",
   "name": "python3"
  },
  "language_info": {
   "codemirror_mode": {
    "name": "ipython",
    "version": 3
   },
   "file_extension": ".py",
   "mimetype": "text/x-python",
   "name": "python",
   "nbconvert_exporter": "python",
   "pygments_lexer": "ipython3",
   "version": "3.6.3"
  }
 },
 "nbformat": 4,
 "nbformat_minor": 2
}
